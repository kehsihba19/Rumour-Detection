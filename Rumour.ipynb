{
 "cells": [
  {
   "cell_type": "code",
   "execution_count": 1,
   "metadata": {},
   "outputs": [],
   "source": [
    "import matplotlib as plt \n",
    "import numpy as np\n",
    "import random\n",
    "import copy\n",
    "import itertools\n",
    "from random import sample\n",
    "from itertools import combinations"
   ]
  },
  {
   "cell_type": "code",
   "execution_count": 10,
   "metadata": {},
   "outputs": [],
   "source": [
    "def floydWarshall(nodes,graph):\n",
    "    dist=copy.deepcopy(graph)\n",
    "    for k in range(nodes):\n",
    "        for i in range(nodes):\n",
    "            for j in range(nodes):\n",
    "                dist[i][j] = min(dist[i][j] , dist[i][k]+ dist[k][j])\n",
    "    return dist\n",
    "\n",
    "def MSE(graphList,M_SPD,m):\n",
    "    #these are m graphs and varies\n",
    "    t = (SPD(graphList,m)-M_SPD)\n",
    "    return t*t\n",
    "\n",
    "def SPD(graphList,M): \n",
    "    nodes=len(graphList[0])\n",
    "    edges=(nodes*(nodes-1))\n",
    "    dic=[{} for x in range(edges)]\n",
    "    for g in graphList:\n",
    "        for i in range(0,len(g)):\n",
    "            for j in range(0,len(g[0])):\n",
    "                if(i<j):\n",
    "                    x=0\n",
    "                    if(g[i][j] in dic[i*j+j].keys()):\n",
    "                        x=dic[i*j+j][g[i][j]]\n",
    "                    dic[i*j+j][g[i][j]]=x+1\n",
    "    ans = 0\n",
    "    for G in graphList:\n",
    "        P=1\n",
    "        for i in range(0,len(G)):\n",
    "            for j in range(0,len(G[0])):\n",
    "                if(i<j):\n",
    "                    P*=(dic[i*j+j][G[i][j]]/M)\n",
    "        ans+=(P*SPDbar(G))\n",
    "    return ans\n",
    "    \n",
    "\n",
    "def SPDbar(graph):\n",
    "    V = len(graph)\n",
    "    dist = floydWarshall(V,graph)\n",
    "    sum = 0\n",
    "    for i in range(V):\n",
    "        for j in range(V):\n",
    "            if(i!=j):\n",
    "                sum+=dist[i][j]\n",
    "    #divided by 2 due to symmetry counting was extra\n",
    "    return (1/(V*(V-1)))*(sum/2)"
   ]
  },
  {
   "cell_type": "code",
   "execution_count": 11,
   "metadata": {},
   "outputs": [],
   "source": [
    "nodes=5\n",
    "graph=[[0]*nodes for i in range(0,nodes)]\n",
    "edges=(nodes*(nodes-1))//2"
   ]
  },
  {
   "cell_type": "code",
   "execution_count": 14,
   "metadata": {},
   "outputs": [],
   "source": [
    "y_axis=[]\n",
    "x_axis=[]\n",
    "edge_weights=[np.random.rand(2) for i in range(0,edges)]\n",
    "#Edge weights for all possible graphs\n",
    "result = list(itertools.product(*edge_weights))\n",
    "M=len(result)\n",
    "edge=sample(list(combinations(range(0,nodes),2)),edges)\n",
    "\n",
    "total_graph=[]\n",
    "for i in range(M):\n",
    "    x=copy.deepcopy(graph)\n",
    "    k=0\n",
    "    for (a,b) in edge:\n",
    "        x[a][b]=round(result[i][k],2)\n",
    "        x[b][a]=round(result[i][k],2)\n",
    "        k+=1\n",
    "    total_graph.append(x)\n",
    "\n",
    "for m in [3,20,40,60,80,100,1000]:\n",
    "    x_axis.append(m)\n",
    "    #Values of edge weights for m graphs out of M possible graphs\n",
    "    g_graph=[result[i] for i in random.sample(range(0, M), m)]\n",
    "\n",
    "    m_graph=[]\n",
    "    for i in range(m):\n",
    "        x=copy.deepcopy(graph)\n",
    "        k=0\n",
    "        for (a,b) in edge:\n",
    "            x[a][b]=round(g_graph[i][k],2)\n",
    "            x[b][a]=round(g_graph[i][k],2)\n",
    "            k+=1\n",
    "        m_graph.append(x)\n",
    "    M_SPD = SPD(total_graph,M)\n",
    "    y_axis.append(MSE(m_graph,M_SPD,M))"
   ]
  },
  {
   "cell_type": "code",
   "execution_count": 15,
   "metadata": {},
   "outputs": [
    {
     "data": {
      "image/png": "[encoded data removed]",
      "text/plain": [
       "<Figure size 432x288 with 1 Axes>"
      ]
     },
     "metadata": {
      "needs_background": "light"
     },
     "output_type": "display_data"
    }
   ],
   "source": [
    "import matplotlib.pyplot as plt\n",
    "\n",
    "plt.plot(x_axis,y_axis)\n",
    "plt.show()"
   ]
  },
  {
   "cell_type": "code",
   "execution_count": 82,
   "metadata": {},
   "outputs": [
    {
     "data": {
      "text/plain": [
       "1024"
      ]
     },
     "execution_count": 82,
     "metadata": {},
     "output_type": "execute_result"
    }
   ],
   "source": [
    "M"
   ]
  },
  {
   "cell_type": "code",
   "execution_count": null,
   "metadata": {},
   "outputs": [],
   "source": []
  }
 ],
 "metadata": {
  "kernelspec": {
   "display_name": "Python 3",
   "language": "python",
   "name": "python3"
  },
  "language_info": {
   "codemirror_mode": {
    "name": "ipython",
    "version": 3
   },
   "file_extension": ".py",
   "mimetype": "text/x-python",
   "name": "python",
   "nbconvert_exporter": "python",
   "pygments_lexer": "ipython3",
   "version": "3.8.5"
  }
 },
 "nbformat": 4,
 "nbformat_minor": 4
}
